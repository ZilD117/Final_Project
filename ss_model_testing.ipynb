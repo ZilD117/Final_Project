{
 "cells": [
  {
   "cell_type": "code",
   "execution_count": 1,
   "id": "286db703",
   "metadata": {},
   "outputs": [],
   "source": [
    "# testing OOP for solar system model"
   ]
  },
  {
   "cell_type": "code",
   "execution_count": 8,
   "id": "2c285fa6",
   "metadata": {},
   "outputs": [
    {
     "ename": "ModuleNotFoundError",
     "evalue": "No module named 'ss_model_OOP'",
     "output_type": "error",
     "traceback": [
      "\u001b[0;31m---------------------------------------------------------------------------\u001b[0m",
      "\u001b[0;31mModuleNotFoundError\u001b[0m                       Traceback (most recent call last)",
      "\u001b[0;32m<ipython-input-8-08e7689f2f76>\u001b[0m in \u001b[0;36m<module>\u001b[0;34m\u001b[0m\n\u001b[0;32m----> 1\u001b[0;31m \u001b[0;32mfrom\u001b[0m \u001b[0mss_model_OOP\u001b[0m\u001b[0;34m.\u001b[0m\u001b[0mipynb\u001b[0m \u001b[0;32mimport\u001b[0m \u001b[0mSolar_System\u001b[0m\u001b[0;34m\u001b[0m\u001b[0;34m\u001b[0m\u001b[0m\n\u001b[0m\u001b[1;32m      2\u001b[0m \u001b[0;32mfrom\u001b[0m \u001b[0mss_model_OOP\u001b[0m\u001b[0;34m.\u001b[0m\u001b[0mipynb\u001b[0m \u001b[0;32mimport\u001b[0m \u001b[0mCelestial_Body\u001b[0m\u001b[0;34m\u001b[0m\u001b[0;34m\u001b[0m\u001b[0m\n",
      "\u001b[0;31mModuleNotFoundError\u001b[0m: No module named 'ss_model_OOP'"
     ]
    }
   ],
   "source": [
    "from ss_model_OOP.ipynb import Solar_System\n",
    "from ss_model_OOP.ipynb import Celestial_Body"
   ]
  },
  {
   "cell_type": "code",
   "execution_count": 1,
   "id": "0a17a7ea",
   "metadata": {},
   "outputs": [],
   "source": [
    "import matplotlib.pyplot as plt\n",
    "import numpy as np\n",
    "import math\n",
    "from matplotlib import animation\n",
    "from IPython.display import HTML\n",
    "\n",
    "####################### Useful Constants #########################\n",
    "G = 6.6743e-11 #m^3kg^-1s^-2; Gravitational Constant\n",
    "AU = 1.496e11 #m; Astronomical Unit in meters\n",
    "dt = 24.0*60*60 #s; Seconds in a Day\n",
    "\n",
    "####################### Defining Classes #########################\n",
    "\n",
    "class Solar_System():\n",
    "    \n",
    "    '''\n",
    "    Solar System Class\n",
    "    '''\n",
    "    \n",
    "    def __init__(self,xdim=32,ydim=32,zdim=32):\n",
    "        \n",
    "        '''\n",
    "        Initializes a Solar System. The Solar System contains Celestial Body objects and simulate\n",
    "        the movement of the planets using the Planet class methods.\n",
    "        \n",
    "        ---Attributes---\n",
    "        xdim (int): The x size of the Solar System in Astronomical Units (AU)\n",
    "        ydim (int): The y size of the Solar System in AU\n",
    "        Bodies (list of Celestial_Body objects): Celestial Body objects in the Solar System\n",
    "        '''\n",
    "        \n",
    "        self.xdim = xdim*AU\n",
    "        self.ydim = ydim*AU\n",
    "        self.zdim = zdim*AU\n",
    "        self.bodies = []\n",
    "    \n",
    "    def add_body(self,body):\n",
    "        self.bodies.append(body)\n",
    "        \n",
    "    #def plot_3D(self,total_time):\n",
    "    "
   ]
  },
  {
   "cell_type": "code",
   "execution_count": 2,
   "id": "be9fd526",
   "metadata": {},
   "outputs": [],
   "source": [
    "class Celestial_Body():\n",
    "    \n",
    "    \n",
    "    '''\n",
    "    A Celestial Body Class\n",
    "    '''\n",
    "    \n",
    "    def __init__(self,name,mass,init_v,init_pos,size,color):\n",
    "        '''\n",
    "        Initializes a Celestial Body. Celestial Bodies can move around in space with its movement\n",
    "        affected by other celestial bodies. Note: You do not need to create a Sun.\n",
    "\n",
    "        ---Attributes---\n",
    "        Name (str): Name of the body\n",
    "        Mass (int): Mass of the body in kilograms (kg)\n",
    "        Initial Velocity (int): Average orbital velocity of the body in meters per second.\n",
    "        Initial Position (int): Average length of the semi-major axis of the body, or distance to the sun in AU.\n",
    "        Size (int): Relative size of the body\n",
    "        Color ('string'): Color of the body\n",
    "        '''\n",
    "        self.name = name\n",
    "        self.mass = mass\n",
    "        self.vel = [0,init_v,0]\n",
    "        self.pos = [init_pos,0,0]\n",
    "        self.size = size\n",
    "        self.color = color\n",
    "\n",
    "    def motion(self, all_bodies):\n",
    "        \n",
    "        ################# Equations to Predict Motion of a Body #######################\n",
    "        #Gravitational Force Equation: F = G(M_1*M_2)/R^2\n",
    "        #Newton's Second Law: F=ma ---> F/m = a\n",
    "        #Acceleration due to Gravity: a = G*M_body/r^2\n",
    "        #Velocity (Kinematics): v = a*t + v0\n",
    "        #Position (Kinematics): p = v*t + p0 = .5*a*t^2 + v0*t + p0 #We'll use the first equation.\n",
    "        \n",
    "        for body in all_bodies:\n",
    "            dx = (abs(self.pos[0]-body.pos[0]))*AU\n",
    "            dy = (abs(self.pos[1]-body.pos[1]))*AU\n",
    "            dz = (abs(self.pos[2]-body.pos[2]))*AU\n",
    "            \n",
    "            a_x = G*body.mass/(dx^2)\n",
    "            a_y = G*body.mass/(dy^2) \n",
    "            a_z = G*body.mass/(dz^2)\n",
    "\n",
    "            v_x = a_x*dt+self.vel[0]\n",
    "            v_y = a_y*dt+self.vel[1]\n",
    "            v_z = a_z*dt+self.vel[2]\n",
    "            self.vel = [v_x,v_y,v_z]\n",
    "            \n",
    "            p_x = v_x*dt+self.pos[0]\n",
    "            p_y = v_y*dt+self.pos[1]\n",
    "            p_z = v_z*dt+self.pos[2]\n",
    "            self.pos = [p_x,p_y,p_z]\n",
    "            \n",
    "        \n",
    "    def draw(self, ax):\n",
    "        \n",
    "        ax.scatter3D(self.pos[0],self.pos[1],self.pos[2],color=self.color,marker='o',size=self.size)"
   ]
  },
  {
   "cell_type": "code",
   "execution_count": 3,
   "id": "70822359",
   "metadata": {},
   "outputs": [],
   "source": [
    "system = Solar_System()\n",
    "earth = Celestial_Body('Earth', 5.972e24, 29290, 1.0167, 5, 'cornflowerblue')\n",
    "system.add_body(earth)"
   ]
  },
  {
   "cell_type": "code",
   "execution_count": null,
   "id": "bc38a2af",
   "metadata": {},
   "outputs": [],
   "source": []
  }
 ],
 "metadata": {
  "kernelspec": {
   "display_name": "Python 3",
   "language": "python",
   "name": "python3"
  },
  "language_info": {
   "codemirror_mode": {
    "name": "ipython",
    "version": 3
   },
   "file_extension": ".py",
   "mimetype": "text/x-python",
   "name": "python",
   "nbconvert_exporter": "python",
   "pygments_lexer": "ipython3",
   "version": "3.8.8"
  }
 },
 "nbformat": 4,
 "nbformat_minor": 5
}
